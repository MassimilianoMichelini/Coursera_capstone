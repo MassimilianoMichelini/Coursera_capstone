{
 "cells": [
  {
   "cell_type": "markdown",
   "metadata": {},
   "source": [
    "In this notebook I describe the problem I'm trying to solve in the Capstone Project:\n",
    "A new fast food company wants to expand their business in Germany, particularly in the city of Berlin.\n",
    "They asked me to find the 5 best places where their branches should be opened.\n",
    "To answer this question I compare the neighborhoods in Berlin with 2 other big cities in Northern America as to find similar patterns.\n",
    "This is an approach that could be used by stakeholders in other working fields, with appropriate variations."
   ]
  },
  {
   "cell_type": "markdown",
   "metadata": {},
   "source": [
    "To resolve the stakeholder request I use an approach which requires the data of New York and Toronto, used in the past weeks of the Capstone Project Course:\n",
    "I compare Berlin's neighborhoods with the ones of New York and Toronto and suggest the most similar as the most favorable places to be chosen."
   ]
  },
  {
   "cell_type": "code",
   "execution_count": null,
   "metadata": {},
   "outputs": [],
   "source": []
  }
 ],
 "metadata": {
  "kernelspec": {
   "display_name": "Python 3",
   "language": "python",
   "name": "python3"
  },
  "language_info": {
   "codemirror_mode": {
    "name": "ipython",
    "version": 3
   },
   "file_extension": ".py",
   "mimetype": "text/x-python",
   "name": "python",
   "nbconvert_exporter": "python",
   "pygments_lexer": "ipython3",
   "version": "3.6.8"
  }
 },
 "nbformat": 4,
 "nbformat_minor": 2
}
